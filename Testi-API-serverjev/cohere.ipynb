{
 "cells": [
  {
   "cell_type": "code",
   "execution_count": 5,
   "metadata": {},
   "outputs": [
    {
     "name": "stdout",
     "output_type": "stream",
     "text": [
      "id='f63e6131-a8dc-46a5-ad4f-7990a012cb6d' finish_reason='COMPLETE' prompt=None message=AssistantMessageResponse(role='assistant', tool_calls=None, tool_plan=None, content=[TextAssistantMessageResponseContentItem(type='text', text='Moje ime je Command R+! Možete me nazvati Com ili R+, ako je to za Vas lakše. Tu sam da bih Vam pomogao i odgovorio na Vaša pitanja.')], citations=None) usage=Usage(billed_units=UsageBilledUnits(input_tokens=6.0, output_tokens=50.0, search_units=None, classifications=None), tokens=UsageTokens(input_tokens=204.0, output_tokens=50.0))\n"
     ]
    }
   ],
   "source": [
    "import cohere\n",
    "\n",
    "co = cohere.ClientV2(\"xZdETLrxOEgMQAO7CDZ5GUxFQyldhlB2ysIZEx32\")\n",
    "\n",
    "response = co.chat(\n",
    "\n",
    "    model=\"command-r-plus\",\n",
    "\n",
    "    messages=[\n",
    "\n",
    "        {\n",
    "\n",
    "            \"role\": \"user\",\n",
    "\n",
    "            \"content\": \"Kako ti je ime\"\n",
    "\n",
    "        }\n",
    "\n",
    "    ]\n",
    "\n",
    ")\n",
    "\n",
    "print(response)"
   ]
  }
 ],
 "metadata": {
  "kernelspec": {
   "display_name": "Python 3",
   "language": "python",
   "name": "python3"
  },
  "language_info": {
   "codemirror_mode": {
    "name": "ipython",
    "version": 3
   },
   "file_extension": ".py",
   "mimetype": "text/x-python",
   "name": "python",
   "nbconvert_exporter": "python",
   "pygments_lexer": "ipython3",
   "version": "3.12.7"
  }
 },
 "nbformat": 4,
 "nbformat_minor": 2
}
